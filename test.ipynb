{
 "cells": [
  {
   "cell_type": "code",
   "execution_count": 1,
   "metadata": {},
   "outputs": [],
   "source": [
    "import numpy as np\n",
    "import pandas as pd\n",
    "from matplotlib import pyplot as plt\n",
    "\n",
    "from anticipation.config import *\n",
    "from anticipation.vocab import *\n",
    "\n",
    "import alignment as am\n",
    "\n",
    "from anticipation.sample import generate, generate2\n",
    "from anticipation.convert import midi_to_events, midi_to_compound, events_to_midi\n",
    "from train.midi_preprocess import convert_midi\n",
    "\n",
    "from anticipation.tokenize import tokenize2, maybe_tokenize, tokenize3\n",
    "\n",
    "import anticipation.ops as ops\n",
    "\n",
    "from tqdm import tqdm"
   ]
  },
  {
   "cell_type": "code",
   "execution_count": 2,
   "metadata": {},
   "outputs": [],
   "source": [
    "df = pd.read_csv('asap-dataset-master/metadata.csv')"
   ]
  },
  {
   "cell_type": "code",
   "execution_count": 3,
   "metadata": {},
   "outputs": [
    {
     "data": {
      "text/html": [
       "<div>\n",
       "<style scoped>\n",
       "    .dataframe tbody tr th:only-of-type {\n",
       "        vertical-align: middle;\n",
       "    }\n",
       "\n",
       "    .dataframe tbody tr th {\n",
       "        vertical-align: top;\n",
       "    }\n",
       "\n",
       "    .dataframe thead th {\n",
       "        text-align: right;\n",
       "    }\n",
       "</style>\n",
       "<table border=\"1\" class=\"dataframe\">\n",
       "  <thead>\n",
       "    <tr style=\"text-align: right;\">\n",
       "      <th></th>\n",
       "      <th>composer</th>\n",
       "      <th>title</th>\n",
       "      <th>folder</th>\n",
       "      <th>xml_score</th>\n",
       "      <th>midi_score</th>\n",
       "      <th>midi_performance</th>\n",
       "      <th>performance_annotations</th>\n",
       "      <th>midi_score_annotations</th>\n",
       "      <th>maestro_midi_performance</th>\n",
       "      <th>maestro_audio_performance</th>\n",
       "      <th>start</th>\n",
       "      <th>end</th>\n",
       "      <th>audio_performance</th>\n",
       "    </tr>\n",
       "  </thead>\n",
       "  <tbody>\n",
       "    <tr>\n",
       "      <th>0</th>\n",
       "      <td>Bach</td>\n",
       "      <td>Fugue_bwv_846</td>\n",
       "      <td>Bach/Fugue/bwv_846</td>\n",
       "      <td>Bach/Fugue/bwv_846/xml_score.musicxml</td>\n",
       "      <td>Bach/Fugue/bwv_846/midi_score.mid</td>\n",
       "      <td>Bach/Fugue/bwv_846/Shi05M.mid</td>\n",
       "      <td>Bach/Fugue/bwv_846/Shi05M_annotations.txt</td>\n",
       "      <td>Bach/Fugue/bwv_846/midi_score_annotations.txt</td>\n",
       "      <td>{maestro}/2006/MIDI-Unprocessed_19_R1_2006_01-...</td>\n",
       "      <td>{maestro}/2006/MIDI-Unprocessed_19_R1_2006_01-...</td>\n",
       "      <td>144.567708</td>\n",
       "      <td>NaN</td>\n",
       "      <td>Bach/Fugue/bwv_846/Shi05M.wav</td>\n",
       "    </tr>\n",
       "    <tr>\n",
       "      <th>1</th>\n",
       "      <td>Bach</td>\n",
       "      <td>Fugue_bwv_848</td>\n",
       "      <td>Bach/Fugue/bwv_848</td>\n",
       "      <td>Bach/Fugue/bwv_848/xml_score.musicxml</td>\n",
       "      <td>Bach/Fugue/bwv_848/midi_score.mid</td>\n",
       "      <td>Bach/Fugue/bwv_848/Denisova06M.mid</td>\n",
       "      <td>Bach/Fugue/bwv_848/Denisova06M_annotations.txt</td>\n",
       "      <td>Bach/Fugue/bwv_848/midi_score_annotations.txt</td>\n",
       "      <td>{maestro}/2008/MIDI-Unprocessed_02_R1_2008_01-...</td>\n",
       "      <td>{maestro}/2008/MIDI-Unprocessed_02_R1_2008_01-...</td>\n",
       "      <td>69.317708</td>\n",
       "      <td>NaN</td>\n",
       "      <td>Bach/Fugue/bwv_848/Denisova06M.wav</td>\n",
       "    </tr>\n",
       "    <tr>\n",
       "      <th>2</th>\n",
       "      <td>Bach</td>\n",
       "      <td>Fugue_bwv_848</td>\n",
       "      <td>Bach/Fugue/bwv_848</td>\n",
       "      <td>Bach/Fugue/bwv_848/xml_score.musicxml</td>\n",
       "      <td>Bach/Fugue/bwv_848/midi_score.mid</td>\n",
       "      <td>Bach/Fugue/bwv_848/Lee01M.mid</td>\n",
       "      <td>Bach/Fugue/bwv_848/Lee01M_annotations.txt</td>\n",
       "      <td>Bach/Fugue/bwv_848/midi_score_annotations.txt</td>\n",
       "      <td>{maestro}/2011/MIDI-Unprocessed_08_R1_2011_MID...</td>\n",
       "      <td>{maestro}/2011/MIDI-Unprocessed_08_R1_2011_MID...</td>\n",
       "      <td>74.795573</td>\n",
       "      <td>NaN</td>\n",
       "      <td>Bach/Fugue/bwv_848/Lee01M.wav</td>\n",
       "    </tr>\n",
       "    <tr>\n",
       "      <th>3</th>\n",
       "      <td>Bach</td>\n",
       "      <td>Fugue_bwv_848</td>\n",
       "      <td>Bach/Fugue/bwv_848</td>\n",
       "      <td>Bach/Fugue/bwv_848/xml_score.musicxml</td>\n",
       "      <td>Bach/Fugue/bwv_848/midi_score.mid</td>\n",
       "      <td>Bach/Fugue/bwv_848/LeeSH01M.mid</td>\n",
       "      <td>Bach/Fugue/bwv_848/LeeSH01M_annotations.txt</td>\n",
       "      <td>Bach/Fugue/bwv_848/midi_score_annotations.txt</td>\n",
       "      <td>{maestro}/2017/MIDI-Unprocessed_049_PIANO049_M...</td>\n",
       "      <td>{maestro}/2017/MIDI-Unprocessed_049_PIANO049_M...</td>\n",
       "      <td>83.644792</td>\n",
       "      <td>NaN</td>\n",
       "      <td>Bach/Fugue/bwv_848/LeeSH01M.wav</td>\n",
       "    </tr>\n",
       "    <tr>\n",
       "      <th>4</th>\n",
       "      <td>Bach</td>\n",
       "      <td>Fugue_bwv_848</td>\n",
       "      <td>Bach/Fugue/bwv_848</td>\n",
       "      <td>Bach/Fugue/bwv_848/xml_score.musicxml</td>\n",
       "      <td>Bach/Fugue/bwv_848/midi_score.mid</td>\n",
       "      <td>Bach/Fugue/bwv_848/Lin04M.mid</td>\n",
       "      <td>Bach/Fugue/bwv_848/Lin04M_annotations.txt</td>\n",
       "      <td>Bach/Fugue/bwv_848/midi_score_annotations.txt</td>\n",
       "      <td>{maestro}/2008/MIDI-Unprocessed_10_R1_2008_01-...</td>\n",
       "      <td>{maestro}/2008/MIDI-Unprocessed_10_R1_2008_01-...</td>\n",
       "      <td>75.373698</td>\n",
       "      <td>NaN</td>\n",
       "      <td>Bach/Fugue/bwv_848/Lin04M.wav</td>\n",
       "    </tr>\n",
       "  </tbody>\n",
       "</table>\n",
       "</div>"
      ],
      "text/plain": [
       "  composer          title              folder  \\\n",
       "0     Bach  Fugue_bwv_846  Bach/Fugue/bwv_846   \n",
       "1     Bach  Fugue_bwv_848  Bach/Fugue/bwv_848   \n",
       "2     Bach  Fugue_bwv_848  Bach/Fugue/bwv_848   \n",
       "3     Bach  Fugue_bwv_848  Bach/Fugue/bwv_848   \n",
       "4     Bach  Fugue_bwv_848  Bach/Fugue/bwv_848   \n",
       "\n",
       "                               xml_score                         midi_score  \\\n",
       "0  Bach/Fugue/bwv_846/xml_score.musicxml  Bach/Fugue/bwv_846/midi_score.mid   \n",
       "1  Bach/Fugue/bwv_848/xml_score.musicxml  Bach/Fugue/bwv_848/midi_score.mid   \n",
       "2  Bach/Fugue/bwv_848/xml_score.musicxml  Bach/Fugue/bwv_848/midi_score.mid   \n",
       "3  Bach/Fugue/bwv_848/xml_score.musicxml  Bach/Fugue/bwv_848/midi_score.mid   \n",
       "4  Bach/Fugue/bwv_848/xml_score.musicxml  Bach/Fugue/bwv_848/midi_score.mid   \n",
       "\n",
       "                     midi_performance  \\\n",
       "0       Bach/Fugue/bwv_846/Shi05M.mid   \n",
       "1  Bach/Fugue/bwv_848/Denisova06M.mid   \n",
       "2       Bach/Fugue/bwv_848/Lee01M.mid   \n",
       "3     Bach/Fugue/bwv_848/LeeSH01M.mid   \n",
       "4       Bach/Fugue/bwv_848/Lin04M.mid   \n",
       "\n",
       "                          performance_annotations  \\\n",
       "0       Bach/Fugue/bwv_846/Shi05M_annotations.txt   \n",
       "1  Bach/Fugue/bwv_848/Denisova06M_annotations.txt   \n",
       "2       Bach/Fugue/bwv_848/Lee01M_annotations.txt   \n",
       "3     Bach/Fugue/bwv_848/LeeSH01M_annotations.txt   \n",
       "4       Bach/Fugue/bwv_848/Lin04M_annotations.txt   \n",
       "\n",
       "                          midi_score_annotations  \\\n",
       "0  Bach/Fugue/bwv_846/midi_score_annotations.txt   \n",
       "1  Bach/Fugue/bwv_848/midi_score_annotations.txt   \n",
       "2  Bach/Fugue/bwv_848/midi_score_annotations.txt   \n",
       "3  Bach/Fugue/bwv_848/midi_score_annotations.txt   \n",
       "4  Bach/Fugue/bwv_848/midi_score_annotations.txt   \n",
       "\n",
       "                            maestro_midi_performance  \\\n",
       "0  {maestro}/2006/MIDI-Unprocessed_19_R1_2006_01-...   \n",
       "1  {maestro}/2008/MIDI-Unprocessed_02_R1_2008_01-...   \n",
       "2  {maestro}/2011/MIDI-Unprocessed_08_R1_2011_MID...   \n",
       "3  {maestro}/2017/MIDI-Unprocessed_049_PIANO049_M...   \n",
       "4  {maestro}/2008/MIDI-Unprocessed_10_R1_2008_01-...   \n",
       "\n",
       "                           maestro_audio_performance       start  end  \\\n",
       "0  {maestro}/2006/MIDI-Unprocessed_19_R1_2006_01-...  144.567708  NaN   \n",
       "1  {maestro}/2008/MIDI-Unprocessed_02_R1_2008_01-...   69.317708  NaN   \n",
       "2  {maestro}/2011/MIDI-Unprocessed_08_R1_2011_MID...   74.795573  NaN   \n",
       "3  {maestro}/2017/MIDI-Unprocessed_049_PIANO049_M...   83.644792  NaN   \n",
       "4  {maestro}/2008/MIDI-Unprocessed_10_R1_2008_01-...   75.373698  NaN   \n",
       "\n",
       "                    audio_performance  \n",
       "0       Bach/Fugue/bwv_846/Shi05M.wav  \n",
       "1  Bach/Fugue/bwv_848/Denisova06M.wav  \n",
       "2       Bach/Fugue/bwv_848/Lee01M.wav  \n",
       "3     Bach/Fugue/bwv_848/LeeSH01M.wav  \n",
       "4       Bach/Fugue/bwv_848/Lin04M.wav  "
      ]
     },
     "execution_count": 3,
     "metadata": {},
     "output_type": "execute_result"
    }
   ],
   "source": [
    "df.head()"
   ]
  },
  {
   "cell_type": "code",
   "execution_count": 4,
   "metadata": {},
   "outputs": [],
   "source": [
    "BASE = \"./asap-dataset-master/\""
   ]
  },
  {
   "cell_type": "code",
   "execution_count": null,
   "metadata": {},
   "outputs": [],
   "source": []
  },
  {
   "cell_type": "code",
   "execution_count": null,
   "metadata": {},
   "outputs": [],
   "source": []
  },
  {
   "cell_type": "code",
   "execution_count": 32,
   "metadata": {},
   "outputs": [],
   "source": [
    "with open('./data/output.txt', 'r') as f:\n",
    "    lines = f.read().split('\\n')"
   ]
  },
  {
   "cell_type": "code",
   "execution_count": 34,
   "metadata": {},
   "outputs": [
    {
     "name": "stderr",
     "output_type": "stream",
     "text": [
      "100%|██████████████████████████████████████████████████████████████████████████| 16153/16153 [00:11<00:00, 1375.56it/s]\n"
     ]
    }
   ],
   "source": [
    "EVENTS=[]\n",
    "CONTROLS=[]\n",
    "\n",
    "for line in tqdm(lines):\n",
    "    seq = [int(i) for i in line.split()]\n",
    "\n",
    "    events, controls = ops.split(seq)\n",
    "    EVENTS.extend(events)\n",
    "    CONTROLS.extend(controls)"
   ]
  },
  {
   "cell_type": "code",
   "execution_count": null,
   "metadata": {},
   "outputs": [],
   "source": [
    "print(len(EVENTS), len(CONTROLS), len(EVENTS)+len(CONTROLS))"
   ]
  },
  {
   "cell_type": "code",
   "execution_count": null,
   "metadata": {},
   "outputs": [],
   "source": [
    "len(set(EVENTS).union(set(CONTROLS)))"
   ]
  },
  {
   "cell_type": "code",
   "execution_count": null,
   "metadata": {},
   "outputs": [],
   "source": []
  },
  {
   "cell_type": "markdown",
   "metadata": {},
   "source": [
    "## Loading in the model trained from Colab:"
   ]
  },
  {
   "cell_type": "code",
   "execution_count": null,
   "metadata": {},
   "outputs": [],
   "source": [
    "from transformers import GPT2Config, GPT2LMHeadModel"
   ]
  },
  {
   "cell_type": "code",
   "execution_count": null,
   "metadata": {},
   "outputs": [],
   "source": [
    "model = GPT2LMHeadModel.from_pretrained(\"./results/3-5 model/model-final\")"
   ]
  },
  {
   "cell_type": "markdown",
   "metadata": {},
   "source": [
    "### Trying to perform inference on an unseen MIDI file... without the map"
   ]
  },
  {
   "cell_type": "code",
   "execution_count": null,
   "metadata": {},
   "outputs": [],
   "source": [
    "controls = midi_to_events('./examples/Bach prelude.MID')"
   ]
  },
  {
   "cell_type": "code",
   "execution_count": null,
   "metadata": {},
   "outputs": [],
   "source": [
    "events = midi_to_events('./asap-dataset-master/Bach/Prelude/bwv_846/midi_score.mid')\n",
    "history = ops.clip(events, 0, 5)"
   ]
  },
  {
   "cell_type": "code",
   "execution_count": null,
   "metadata": {},
   "outputs": [],
   "source": [
    "score = generate(model,start_time=0,end_time=60,inputs=history,controls=controls)\n",
    "mid = events_to_midi(score)\n",
    "mid.save('./examples/Bach prelude generated3.mid')"
   ]
  },
  {
   "cell_type": "code",
   "execution_count": null,
   "metadata": {},
   "outputs": [],
   "source": [
    "score = generate(model,start_time=0,end_time=60,controls=controls)\n",
    "mid = events_to_midi(score)\n",
    "mid.save('./examples/Bach prelude generated.mid')"
   ]
  },
  {
   "cell_type": "markdown",
   "metadata": {},
   "source": [
    "### Let's see how it does on a file with a known map"
   ]
  },
  {
   "cell_type": "code",
   "execution_count": null,
   "metadata": {},
   "outputs": [],
   "source": [
    "sample = df.iloc[87]\n",
    "perf_mid, score_mid, perf_note, score_note = sample['midi_performance'], sample['midi_score'], sample['performance_annotations'], sample['midi_score_annotations']\n",
    "perf_mid, score_mid, perf_note, score_note = BASE + perf_mid, BASE + score_mid, BASE + perf_note, BASE + score_note"
   ]
  },
  {
   "cell_type": "code",
   "execution_count": null,
   "metadata": {},
   "outputs": [],
   "source": [
    "controls = midi_to_events(perf_mid)\n",
    "controls = [CONTROL_OFFSET+token for token in controls]\n",
    "len(controls)"
   ]
  },
  {
   "cell_type": "code",
   "execution_count": null,
   "metadata": {},
   "outputs": [],
   "source": [
    "map = am.compare_annotations(perf_note, score_note)"
   ]
  },
  {
   "cell_type": "code",
   "execution_count": null,
   "metadata": {},
   "outputs": [],
   "source": [
    "domain_max = map.x.max()\n",
    "int(domain_max*TIME_RESOLUTION) # end_time"
   ]
  },
  {
   "cell_type": "code",
   "execution_count": null,
   "metadata": {},
   "outputs": [],
   "source": [
    "score = generate2(model,start_time=0,end_time=200,controls=controls, map=map)"
   ]
  },
  {
   "cell_type": "code",
   "execution_count": null,
   "metadata": {},
   "outputs": [],
   "source": [
    "mid = events_to_midi(score)\n",
    "mid.save('./examples/Shi05M Bach Prelude generated.mid')"
   ]
  },
  {
   "cell_type": "code",
   "execution_count": null,
   "metadata": {},
   "outputs": [],
   "source": [
    "len(score)"
   ]
  },
  {
   "cell_type": "code",
   "execution_count": null,
   "metadata": {},
   "outputs": [],
   "source": []
  },
  {
   "cell_type": "markdown",
   "metadata": {},
   "source": [
    "## Exploring other types of interleaving:"
   ]
  },
  {
   "cell_type": "code",
   "execution_count": null,
   "metadata": {},
   "outputs": [],
   "source": [
    "row = df.iloc[0]"
   ]
  },
  {
   "cell_type": "code",
   "execution_count": null,
   "metadata": {},
   "outputs": [],
   "source": [
    "file1 = BASE + row['midi_performance']\n",
    "file2 = BASE + row['midi_score']\n",
    "file3 = BASE + row['performance_annotations']\n",
    "file4 = BASE + row['midi_score_annotations']"
   ]
  },
  {
   "cell_type": "code",
   "execution_count": null,
   "metadata": {},
   "outputs": [],
   "source": [
    "matched_tuples = am.align_tokens(file1,file2,file3,file4)"
   ]
  },
  {
   "cell_type": "code",
   "execution_count": null,
   "metadata": {},
   "outputs": [],
   "source": [
    "matched_tuples"
   ]
  },
  {
   "cell_type": "code",
   "execution_count": null,
   "metadata": {},
   "outputs": [],
   "source": [
    "datafiles = [(file1,file2,file3,file4)]"
   ]
  },
  {
   "cell_type": "code",
   "execution_count": null,
   "metadata": {},
   "outputs": [],
   "source": [
    "seq_count, rest_count, too_short, too_long, too_manyinstr, discarded_seqs, truncations \\\n",
    "            = tokenize3(datafiles, output='./data/output.txt',skip_Nones=True)"
   ]
  },
  {
   "cell_type": "code",
   "execution_count": null,
   "metadata": {},
   "outputs": [],
   "source": [
    "print(seq_count, rest_count, too_short, too_long, too_manyinstr, discarded_seqs, truncations)"
   ]
  }
 ],
 "metadata": {
  "kernelspec": {
   "display_name": "Python [conda env:base] *",
   "language": "python",
   "name": "conda-base-py"
  },
  "language_info": {
   "codemirror_mode": {
    "name": "ipython",
    "version": 3
   },
   "file_extension": ".py",
   "mimetype": "text/x-python",
   "name": "python",
   "nbconvert_exporter": "python",
   "pygments_lexer": "ipython3",
   "version": "3.12.7"
  }
 },
 "nbformat": 4,
 "nbformat_minor": 4
}
